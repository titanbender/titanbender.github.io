{
 "cells": [
  {
   "cell_type": "markdown",
   "metadata": {},
   "source": [
    "# Trafic Accidents in NYC\n",
    "\n",
    "See the webpage for supplementary descriptions.\n",
    "* [link to d3 home page](https://titanbender.github.io) \n",
    "* [link to git repo](https://github.com/titanbender/titanbender.github.io)"
   ]
  },
  {
   "cell_type": "code",
   "execution_count": 1,
   "metadata": {
    "collapsed": false
   },
   "outputs": [
    {
     "data": {
      "text/html": [
       "\n",
       "        <iframe\n",
       "            width=\"640\"\n",
       "            height=\"360\"\n",
       "            src=\"https://player.vimeo.com/video/211653855\"\n",
       "            frameborder=\"0\"\n",
       "            allowfullscreen\n",
       "        ></iframe>\n",
       "        "
      ],
      "text/plain": [
       "<IPython.lib.display.VimeoVideo at 0x105ac8710>"
      ]
     },
     "execution_count": 1,
     "metadata": {},
     "output_type": "execute_result"
    }
   ],
   "source": [
    "from IPython.display import VimeoVideo\n",
    "VimeoVideo(\"211653855\",width=640, height=360)"
   ]
  },
  {
   "cell_type": "code",
   "execution_count": 2,
   "metadata": {
    "collapsed": false
   },
   "outputs": [
    {
     "name": "stderr",
     "output_type": "stream",
     "text": [
      "/Users/Bender/anaconda/lib/python2.7/site-packages/sklearn/cross_validation.py:44: DeprecationWarning: This module was deprecated in version 0.18 in favor of the model_selection module into which all the refactored classes and functions are moved. Also note that the interface of the new CV iterators are different from that of this module. This module will be removed in 0.20.\n",
      "  \"This module will be removed in 0.20.\", DeprecationWarning)\n"
     ]
    }
   ],
   "source": [
    "# Import libraries\n",
    "import json\n",
    "import numpy as np\n",
    "import pandas as pd\n",
    "from __future__ import division\n",
    "import matplotlib.pyplot as plt\n",
    "import collections \n",
    "from sklearn.cluster import KMeans\n",
    "from sklearn.cross_validation import train_test_split\n",
    "from sklearn.neighbors import KNeighborsClassifier\n",
    "from sklearn import cross_validation\n",
    "import datetime as dt\n",
    "import geoplotlib\n",
    "from geoplotlib.utils import BoundingBox\n",
    "from sklearn import neighbors"
   ]
  },
  {
   "cell_type": "code",
   "execution_count": 3,
   "metadata": {
    "collapsed": true
   },
   "outputs": [],
   "source": [
    "# Create JSON function \n",
    "def createJSON(my_dict, file_name):\n",
    "    with open(file_name, 'w') as outfile:\n",
    "        json.dump(my_dict, outfile)\n",
    "        outfile.close()"
   ]
  },
  {
   "cell_type": "code",
   "execution_count": 4,
   "metadata": {
    "collapsed": true
   },
   "outputs": [],
   "source": [
    "# Create geojson\n",
    "def parseJson(year,file_name):\n",
    "    # number of obs. \n",
    "    tmp_DF = raw_DF[raw_DF[\"YEAR\"] == year]\n",
    "    #\n",
    "    tmp_lat = list(tmp_DF[\"LATITUDE\"])\n",
    "    tmp_lon = list(tmp_DF[\"LONGITUDE\"])\n",
    "    tmp_hour = list(tmp_DF[\"HOUR\"])\n",
    "    tmp_borough = list(tmp_DF[\"BOROUGH\"])\n",
    "    # \n",
    "    N_tot = len(tmp_lat)\n",
    "    \n",
    "    # output\n",
    "    out_dict = [{'lat': tmp_lat[ii],\n",
    "                 'lon': tmp_lon[ii],\n",
    "                 'r': 1} for ii in range(0,N_tot)]\n",
    "    #\n",
    "    createJSON(out_dict, file_name) "
   ]
  },
  {
   "cell_type": "markdown",
   "metadata": {},
   "source": [
    "## 1. Motivation\n",
    "### - What is your dataset?\n",
    "\n",
    "The final assignment utilized two different data sources: <br> <br>\n",
    "1) The NYPD Motor Vehicle Collisions Data which can be downloaded from NYC Open Data: <br> https://data.cityofnewyork.us/Public-Safety/NYPD-Motor-Vehicle-Collisions/h9gi-nx95/data <br>\n",
    "The data set is also downloadable from the following link: <br>\n",
    "https://drive.google.com/file/d/0B42GL3RvQcSCWmNSMUxXazFrajQ/view <br>\n",
    "\n",
    "2) Weather data from the National Centers For Environmental Information. Information can be found online: <br>\n",
    "https://www.ncei.noaa.gov/ <br>\n",
    "The specific data set is also downloadable from the following link: <br>\n",
    "https://drive.google.com/file/d/0B0TAr0IxUyZrQzF1QmJfSzRWTkU/view?usp=sharing <br>\n",
    "\n",
    "### - Why did you choose this/these particular dataset(s)?\n",
    "\n",
    "The datasets were chosen for three main reasons. First, as citizens we're familiar with the dangers of trafic. Therefore we thought it would be interesting to explore if this form of danger can be predicted and whether factors such as weather plays an important role. Second, the motorvehicle accident dataset is a large data set which is suitable for machine learning tools that require lots of training data. Third, the weather data allowed us to explore the hypothises that heavy rain leads to more trafic accidents.\n",
    "\n",
    "\n",
    "### - What was your goal for the end user's experience?\n",
    "\n",
    "The goal of the end user experience is to provide data analysis and visualations that empowers NYPD to understand the patterns for accidents better (season, time of day, etc.) and potentially create a predictive tool for lethal accidents ."
   ]
  },
  {
   "cell_type": "markdown",
   "metadata": {},
   "source": [
    "## 2. Basic stats. Let's understand the dataset better\n",
    "### - A) Write about your choices in data cleaning and preprocessing\n",
    "\n",
    "As we're working with two different datasets, the first step was to transform values for dates in the weather dateset to match the motorvehicle accident dataset. Inside the motorvehicle accident dataset, extra columns were added in order to examine how time of day and season impacts accidents. Further, unused columns were deleted to free up space.\n"
   ]
  },
  {
   "cell_type": "markdown",
   "metadata": {},
   "source": [
    "NOTE: For readability the second answer to section 2 is located closer to the statistical output"
   ]
  },
  {
   "cell_type": "code",
   "execution_count": 5,
   "metadata": {
    "collapsed": false
   },
   "outputs": [],
   "source": [
    "# Load weather data\n",
    "weather_DF = pd.read_csv(\"data/weather.csv\", low_memory = False)\n",
    "\n",
    "dateList = list(weather_DF['DATE'])\n",
    "\n",
    "# transforming the date format to fit the other data set \n",
    "newDateList = []\n",
    "for x in dateList:\n",
    "    x = str(x)\n",
    "    year = str(x[:4])\n",
    "    month = str(x[4:6]) +\"/\"\n",
    "    date = str(x[6:8]) +\"/\"\n",
    "    tmp = month + date + year\n",
    "    newDateList.append(tmp)\n",
    "\n",
    "# adding the transformed date list to the accident data frame\n",
    "weather_DF['DATE'] = newDateList"
   ]
  },
  {
   "cell_type": "code",
   "execution_count": 6,
   "metadata": {
    "collapsed": false
   },
   "outputs": [
    {
     "data": {
      "text/html": [
       "<div>\n",
       "<table border=\"1\" class=\"dataframe\">\n",
       "  <thead>\n",
       "    <tr style=\"text-align: right;\">\n",
       "      <th></th>\n",
       "      <th>DATE</th>\n",
       "      <th>TIME</th>\n",
       "      <th>BOROUGH</th>\n",
       "      <th>LATITUDE</th>\n",
       "      <th>LONGITUDE</th>\n",
       "      <th>NUMBER OF PERSONS INJURED</th>\n",
       "      <th>NUMBER OF PERSONS KILLED</th>\n",
       "      <th>NUMBER OF PEDESTRIANS INJURED</th>\n",
       "      <th>NUMBER OF PEDESTRIANS KILLED</th>\n",
       "      <th>NUMBER OF CYCLIST INJURED</th>\n",
       "      <th>...</th>\n",
       "      <th>VEHICLE TYPE CODE 1</th>\n",
       "      <th>VEHICLE TYPE CODE 2</th>\n",
       "      <th>VEHICLE TYPE CODE 3</th>\n",
       "      <th>VEHICLE TYPE CODE 4</th>\n",
       "      <th>VEHICLE TYPE CODE 5</th>\n",
       "      <th>YEAR</th>\n",
       "      <th>HOUR</th>\n",
       "      <th>TIME_DEC</th>\n",
       "      <th>MONTH</th>\n",
       "      <th>KNN_bool</th>\n",
       "    </tr>\n",
       "  </thead>\n",
       "  <tbody>\n",
       "    <tr>\n",
       "      <th>0</th>\n",
       "      <td>12/31/2016</td>\n",
       "      <td>0:05</td>\n",
       "      <td>MANHATTAN</td>\n",
       "      <td>40.731659</td>\n",
       "      <td>-73.985445</td>\n",
       "      <td>0</td>\n",
       "      <td>0</td>\n",
       "      <td>0</td>\n",
       "      <td>0</td>\n",
       "      <td>0</td>\n",
       "      <td>...</td>\n",
       "      <td>TAXI</td>\n",
       "      <td>TAXI</td>\n",
       "      <td>NaN</td>\n",
       "      <td>NaN</td>\n",
       "      <td>NaN</td>\n",
       "      <td>2016</td>\n",
       "      <td>0</td>\n",
       "      <td>0.083333</td>\n",
       "      <td>12</td>\n",
       "      <td>0</td>\n",
       "    </tr>\n",
       "    <tr>\n",
       "      <th>1</th>\n",
       "      <td>12/31/2016</td>\n",
       "      <td>0:00</td>\n",
       "      <td>BRONX</td>\n",
       "      <td>40.826258</td>\n",
       "      <td>-73.882463</td>\n",
       "      <td>0</td>\n",
       "      <td>0</td>\n",
       "      <td>0</td>\n",
       "      <td>0</td>\n",
       "      <td>0</td>\n",
       "      <td>...</td>\n",
       "      <td>TAXI</td>\n",
       "      <td>NaN</td>\n",
       "      <td>NaN</td>\n",
       "      <td>NaN</td>\n",
       "      <td>NaN</td>\n",
       "      <td>2016</td>\n",
       "      <td>0</td>\n",
       "      <td>0.000000</td>\n",
       "      <td>12</td>\n",
       "      <td>0</td>\n",
       "    </tr>\n",
       "    <tr>\n",
       "      <th>2</th>\n",
       "      <td>12/31/2016</td>\n",
       "      <td>0:00</td>\n",
       "      <td>BROOKLYN</td>\n",
       "      <td>40.684475</td>\n",
       "      <td>-73.974058</td>\n",
       "      <td>0</td>\n",
       "      <td>0</td>\n",
       "      <td>0</td>\n",
       "      <td>0</td>\n",
       "      <td>0</td>\n",
       "      <td>...</td>\n",
       "      <td>SPORT UTILITY / STATION WAGON</td>\n",
       "      <td>NaN</td>\n",
       "      <td>NaN</td>\n",
       "      <td>NaN</td>\n",
       "      <td>NaN</td>\n",
       "      <td>2016</td>\n",
       "      <td>0</td>\n",
       "      <td>0.000000</td>\n",
       "      <td>12</td>\n",
       "      <td>0</td>\n",
       "    </tr>\n",
       "    <tr>\n",
       "      <th>3</th>\n",
       "      <td>12/31/2016</td>\n",
       "      <td>0:00</td>\n",
       "      <td>BROOKLYN</td>\n",
       "      <td>40.685180</td>\n",
       "      <td>-73.933487</td>\n",
       "      <td>0</td>\n",
       "      <td>0</td>\n",
       "      <td>0</td>\n",
       "      <td>0</td>\n",
       "      <td>0</td>\n",
       "      <td>...</td>\n",
       "      <td>SPORT UTILITY / STATION WAGON</td>\n",
       "      <td>NaN</td>\n",
       "      <td>NaN</td>\n",
       "      <td>NaN</td>\n",
       "      <td>NaN</td>\n",
       "      <td>2016</td>\n",
       "      <td>0</td>\n",
       "      <td>0.000000</td>\n",
       "      <td>12</td>\n",
       "      <td>0</td>\n",
       "    </tr>\n",
       "    <tr>\n",
       "      <th>4</th>\n",
       "      <td>12/31/2016</td>\n",
       "      <td>0:00</td>\n",
       "      <td>BROOKLYN</td>\n",
       "      <td>40.646707</td>\n",
       "      <td>-73.965467</td>\n",
       "      <td>0</td>\n",
       "      <td>0</td>\n",
       "      <td>0</td>\n",
       "      <td>0</td>\n",
       "      <td>0</td>\n",
       "      <td>...</td>\n",
       "      <td>PASSENGER VEHICLE</td>\n",
       "      <td>NaN</td>\n",
       "      <td>NaN</td>\n",
       "      <td>NaN</td>\n",
       "      <td>NaN</td>\n",
       "      <td>2016</td>\n",
       "      <td>0</td>\n",
       "      <td>0.000000</td>\n",
       "      <td>12</td>\n",
       "      <td>0</td>\n",
       "    </tr>\n",
       "  </tbody>\n",
       "</table>\n",
       "<p>5 rows × 28 columns</p>\n",
       "</div>"
      ],
      "text/plain": [
       "         DATE  TIME    BOROUGH   LATITUDE  LONGITUDE  \\\n",
       "0  12/31/2016  0:05  MANHATTAN  40.731659 -73.985445   \n",
       "1  12/31/2016  0:00      BRONX  40.826258 -73.882463   \n",
       "2  12/31/2016  0:00   BROOKLYN  40.684475 -73.974058   \n",
       "3  12/31/2016  0:00   BROOKLYN  40.685180 -73.933487   \n",
       "4  12/31/2016  0:00   BROOKLYN  40.646707 -73.965467   \n",
       "\n",
       "   NUMBER OF PERSONS INJURED  NUMBER OF PERSONS KILLED  \\\n",
       "0                          0                         0   \n",
       "1                          0                         0   \n",
       "2                          0                         0   \n",
       "3                          0                         0   \n",
       "4                          0                         0   \n",
       "\n",
       "   NUMBER OF PEDESTRIANS INJURED  NUMBER OF PEDESTRIANS KILLED  \\\n",
       "0                              0                             0   \n",
       "1                              0                             0   \n",
       "2                              0                             0   \n",
       "3                              0                             0   \n",
       "4                              0                             0   \n",
       "\n",
       "   NUMBER OF CYCLIST INJURED   ...               VEHICLE TYPE CODE 1  \\\n",
       "0                          0   ...                              TAXI   \n",
       "1                          0   ...                              TAXI   \n",
       "2                          0   ...     SPORT UTILITY / STATION WAGON   \n",
       "3                          0   ...     SPORT UTILITY / STATION WAGON   \n",
       "4                          0   ...                 PASSENGER VEHICLE   \n",
       "\n",
       "   VEHICLE TYPE CODE 2  VEHICLE TYPE CODE 3 VEHICLE TYPE CODE 4  \\\n",
       "0                 TAXI                  NaN                 NaN   \n",
       "1                  NaN                  NaN                 NaN   \n",
       "2                  NaN                  NaN                 NaN   \n",
       "3                  NaN                  NaN                 NaN   \n",
       "4                  NaN                  NaN                 NaN   \n",
       "\n",
       "  VEHICLE TYPE CODE 5  YEAR HOUR  TIME_DEC MONTH KNN_bool  \n",
       "0                 NaN  2016    0  0.083333    12        0  \n",
       "1                 NaN  2016    0  0.000000    12        0  \n",
       "2                 NaN  2016    0  0.000000    12        0  \n",
       "3                 NaN  2016    0  0.000000    12        0  \n",
       "4                 NaN  2016    0  0.000000    12        0  \n",
       "\n",
       "[5 rows x 28 columns]"
      ]
     },
     "execution_count": 6,
     "metadata": {},
     "output_type": "execute_result"
    }
   ],
   "source": [
    "# Load accident data\n",
    "raw_DF = pd.read_csv(\"data/raw_data.csv\", low_memory = False)\n",
    "\n",
    "# Getting year\n",
    "year = raw_DF[\"DATE\"].apply(lambda x: x.split('/'))\n",
    "raw_DF[\"YEAR\"] = year.apply(lambda x: int(x[2]))\n",
    "\n",
    "# Getting hour\n",
    "hour = raw_DF[\"TIME\"].apply(lambda x: x.split(':'))\n",
    "raw_DF[\"HOUR\"] = hour.apply(lambda x: int(x[0]))\n",
    "raw_DF[\"TIME_DEC\"] = hour.apply(lambda x: float(int(x[0]) + int(x[1])/60) )\n",
    "\n",
    "# String values for month\n",
    "month_list = ['January', 'February', 'March', 'April', 'May', 'June', 'July',\n",
    "              'August', 'September', 'October', 'November', 'December']\n",
    "\n",
    "# Getting month\n",
    "month = raw_DF[\"DATE\"].apply(lambda x: x.split('/'))\n",
    "# raw_DF[\"MONTH\"] = month.apply(lambda x: month_list[int(x[0])-1])\n",
    "raw_DF[\"MONTH\"] = month.apply(lambda x: int(x[0]))\n",
    "\n",
    "# create bool variable KNN_bool = [0 or 1]. 0 if persons not are injured nor killed otherwise 1...\n",
    "raw_DF['KNN_bool'] = raw_DF[['NUMBER OF PERSONS INJURED',\n",
    "                             'NUMBER OF PERSONS KILLED']].apply(lambda x: 1 if (x['NUMBER OF PERSONS INJURED'] + \n",
    "                                                                                x['NUMBER OF PERSONS KILLED']) > 0 \n",
    "                                                                else 0, axis=1)\n",
    "\n",
    "# remove unused columns\n",
    "raw_DF = raw_DF.drop(['ZIP CODE',\n",
    "                          'LOCATION',\n",
    "                          'UNIQUE KEY',\n",
    "                          'ON STREET NAME',\n",
    "                          'CROSS STREET NAME',\n",
    "                          'OFF STREET NAME'], axis = 1)\n",
    "\n",
    "    \n",
    "raw_DF.head()\n",
    "# raw_DF.shape"
   ]
  },
  {
   "cell_type": "markdown",
   "metadata": {},
   "source": [
    "## 2. Basic stats. Let's understand the dataset better\n",
    "### -  B) Write a short section that discusses the dataset stats\n",
    "\n",
    "In the practical Info section below, you will find some basic statistics from the datasets. As the focus on the assignment is on the assisting NYPD in understanding patterns, the focus of the section was to shed light on trends within the different years and boroughs. An element that stands out is the fact that 2016 has about 100 less accidents per day compared to the other years. 2016 also has the largest outlier with about just one accident on one of the particular days compared to average of 424. 2016 also includes the days with the 10 least accident observations, which all but one is in August. The only outside of August is an observation in September "
   ]
  },
  {
   "cell_type": "markdown",
   "metadata": {},
   "source": [
    "### Practical Info"
   ]
  },
  {
   "cell_type": "markdown",
   "metadata": {},
   "source": [
    "Preparing calculations for the basic statistical overview"
   ]
  },
  {
   "cell_type": "code",
   "execution_count": 7,
   "metadata": {
    "collapsed": false
   },
   "outputs": [],
   "source": [
    "pra_info = {}\n",
    "\n",
    "# First day of observations\n",
    "pra_info['first obs'] = min(raw_DF[\"DATE\"])\n",
    "\n",
    "# Last day of observations\n",
    "pra_info['last obs'] = max(raw_DF[\"DATE\"])\n",
    "\n",
    "# pra_info['unique year'] = list(set(raw_DF['YEAR']))\n",
    "pra_info['unique year'] = [2013,2014,2015,2016]\n",
    "\n",
    "# accident per year\n",
    "pra_info['N'] = {}\n",
    "tmp = []\n",
    "for ii in pra_info['unique year']:\n",
    "    pra_info['N'][ii] = len(raw_DF[raw_DF['YEAR'] == ii])\n",
    "    tmp.append(pra_info['N'][ii])\n",
    "# sum tot\n",
    "pra_info['N']['tot'] = sum(tmp)\n",
    "\n",
    "pra_info['unique borough'] = list(set(raw_DF['BOROUGH']))\n",
    "pra_info['borough'] = {}\n",
    "for ii in pra_info['unique borough']:\n",
    "    pra_info['borough'][ii] = {}\n",
    "    tmp = []\n",
    "    for jj in pra_info['unique year']:\n",
    "        pra_info['borough'][ii][jj] = len(raw_DF[(raw_DF['YEAR'] == jj) & (raw_DF['BOROUGH'] == ii)])\n",
    "        tmp.append(pra_info['borough'][ii][jj])   \n",
    "    # sum tot\n",
    "    pra_info['borough'][ii]['tot'] = sum(tmp)\n",
    "    \n",
    "# obs per month\n",
    "pra_info['unique months'] = list(set(raw_DF['MONTH']))\n",
    "pra_info['N month'] = {}\n",
    "for ii in pra_info['unique months']:\n",
    "    pra_info['N month'][ii] = {}\n",
    "    tmp = []\n",
    "    for jj in pra_info['unique year']:\n",
    "        pra_info['N month'][ii][jj] = len(raw_DF[(raw_DF['YEAR'] == jj) & (raw_DF['MONTH'] == ii)])\n",
    "        tmp.append(pra_info['N month'][ii][jj])\n",
    "        \n",
    "    # sum tot\n",
    "    pra_info['N month'][ii]['tot'] = sum(tmp)\n",
    "    \n",
    "# ratio\n",
    "pra_info['ratio'] = {}\n",
    "for ii in pra_info['unique borough']:\n",
    "    pra_info['ratio'][ii] = {}\n",
    "    for jj in pra_info['unique year']+['tot']:\n",
    "        pra_info['ratio'][ii][jj] = pra_info['borough'][ii][jj] / pra_info['N'][jj] \n",
    "        \n",
    "# ratio month\n",
    "pra_info['ratio month'] = {}\n",
    "for ii in pra_info['unique months']:\n",
    "    pra_info['ratio month'][ii] = {}\n",
    "    for jj in pra_info['unique year']:\n",
    "        pra_info['ratio month'][ii][jj] = pra_info['N month'][ii][jj] / pra_info['N'][jj]\n",
    "        \n",
    "# obs per day\n",
    "pra_info['unique days'] = list(set(raw_DF['DATE']))\n",
    "pra_info['No. days'] = {}\n",
    "for ii in pra_info['unique days']:\n",
    "    pra_info['No. days'][ii] = len(raw_DF[raw_DF['DATE'] == ii])\n",
    "    \n",
    "# avg counting\n",
    "tmp = [int(pra_info['No. days'].keys()[ii].split('/')[2]) for ii in range(0, len(pra_info['No. days']))]\n",
    "tmp_days = collections.Counter(tmp)\n",
    "tmp_days['tot'] = len(pra_info['No. days'])\n",
    "\n",
    "pra_info['avg day'] = {}\n",
    "for ii in pra_info['unique year']+['tot']:\n",
    "        pra_info['avg day'][ii] =  pra_info['N'][ii] / tmp_days[ii]\n",
    "        \n",
    "pra_info['avg year'] = {}\n",
    "for ii in pra_info['unique year']:\n",
    "        pra_info['avg year'][ii] =  pra_info['N'][ii] / len(pra_info['unique year'])\n"
   ]
  },
  {
   "cell_type": "markdown",
   "metadata": {},
   "source": [
    "Printing out the basic statistical overview"
   ]
  },
  {
   "cell_type": "code",
   "execution_count": 8,
   "metadata": {
    "collapsed": false
   },
   "outputs": [
    {
     "name": "stdout",
     "output_type": "stream",
     "text": [
      "First day of observations: 01/01/2013\n",
      "Last day of observations: 12/31/2016\n",
      "Total number of obs. in mentioned period: 601313\n",
      "\n",
      "Accidents per year:\n",
      "{2016: 31411.25, 2013: 38989.5, 2014: 39073.25, 2015: 40854.25}\n",
      "\n",
      "Average accidents per day in mm:\n",
      "{2016: 343.29234972677597, 'tot': 411.5763175906913, 2013: 427.2821917808219, 2014: 428.2, 2015: 447.7178082191781}\n",
      "\n",
      "Day with most accidents\n",
      "('01/21/2014', 843)\n",
      "\n",
      "Day with least accidents\n",
      "('08/10/2016', 1)\n",
      "\n",
      "Top 10 days with most accidents:\n",
      "[('01/21/2014', 843), ('02/03/2014', 776), ('03/06/2015', 715), ('03/08/2013', 703), ('01/18/2015', 692), ('03/05/2015', 675), ('11/26/2013', 656), ('02/14/2014', 645), ('06/07/2013', 623), ('11/19/2015', 622)]\n",
      "\n",
      "Top 10 days with least accidents:\n",
      "[('08/10/2016', 1), ('08/14/2016', 2), ('08/22/2016', 3), ('08/12/2016', 3), ('08/31/2016', 3), ('08/17/2016', 4), ('09/25/2016', 4), ('08/23/2016', 4), ('08/06/2016', 5), ('08/21/2016', 5)]\n"
     ]
    }
   ],
   "source": [
    "# Pratical data information prints\n",
    "print \"First day of observations:\", min(raw_DF[\"DATE\"])\n",
    "print \"Last day of observations:\", max(raw_DF[\"DATE\"])\n",
    "print \"Total number of obs. in mentioned period:\" , len(raw_DF['DATE'])\n",
    "print \"\"\n",
    "print \"Accidents per year:\"\n",
    "print pra_info['avg year']\n",
    "print \"\"\n",
    "print \"Average accidents per day in mm:\"\n",
    "print pra_info['avg day'] \n",
    "print \"\"\n",
    "print \"Day with most accidents\"\n",
    "print sorted(pra_info['No. days'].items(), key=lambda x: x[1], reverse=True)[0]\n",
    "print \"\"\n",
    "print \"Day with least accidents\"\n",
    "print sorted(pra_info['No. days'].items(), key=lambda x: x[1], reverse=False)[0]\n",
    "print \"\"\n",
    "print \"Top 10 days with most accidents:\" \n",
    "print sorted(pra_info['No. days'].items(), key=lambda x: x[1], reverse=True)[0:10]\n",
    "print \"\"\n",
    "print \"Top 10 days with least accidents:\" \n",
    "print sorted(pra_info['No. days'].items(), key=lambda x: x[1], reverse=False)[0:10]"
   ]
  },
  {
   "cell_type": "markdown",
   "metadata": {},
   "source": [
    "One instersting statistical pattern is that average accident per day is significatnly lower for 2016 compared to the other years. 2016 also include the days with lowest observation counts. Does this mean that 2016 just have more outliers or that most days on a consistent basis is lower than the average in the other years? We will explore this in the Time Series section "
   ]
  },
  {
   "cell_type": "markdown",
   "metadata": {},
   "source": [
    "## Below are some simple data analysis for website visualization"
   ]
  },
  {
   "cell_type": "markdown",
   "metadata": {},
   "source": [
    "### Bar plot"
   ]
  },
  {
   "cell_type": "markdown",
   "metadata": {},
   "source": [
    "The bar plot below is seperated in 24 slots: One for each hour in the day. The reason for this analysis is to understand which hours during the day might be most dangerous for you. Calculations are furhter seperated into boroughs to understand the danger for the individual districts."
   ]
  },
  {
   "cell_type": "code",
   "execution_count": 9,
   "metadata": {
    "collapsed": true
   },
   "outputs": [],
   "source": [
    "# Time frame\n",
    "tmp_x_key = [\"00:00-00:59\",\"01:00-01:59\",\"02:00-02:59\",\"03:00-03:59\",\"04:00-04:59\",\"05:00-05:59\",\n",
    "             \"06:00-06:59\",\"07:00-07:59\",\"08:00-08:59\",\"09:00-09:59\",\"10:00-10:59\",\"11:00-11:59\",\n",
    "             \"12:00-12:59\",\"13:00-13:59\",\"14:00-14:59\",\"15:00-15:59\",\"16:00-16:59\",\"17:00-17:59\",\n",
    "             \"18:00-18:59\",\"19:00-19:59\",\"20:00-20:59\",\"21:00-21:59\",\"22:00-22:59\",\"23:00-23:59\"]\n",
    "\n",
    "# init lists\n",
    "bar_dict_NYC = []\n",
    "bar_dict_BRONX = []\n",
    "bar_dict_BROOKLYN = []\n",
    "bar_dict_STATEN_ISLAND = []\n",
    "bar_dict_MANHATTAN = []\n",
    "bar_dict_QUEENS = []\n",
    "# injured\n",
    "bar_dict_NYC_inj = []\n",
    "bar_dict_BRONX_inj = []\n",
    "bar_dict_BROOKLYN_inj = []\n",
    "bar_dict_STATEN_ISLAND_inj = []\n",
    "bar_dict_MANHATTAN_inj = []\n",
    "bar_dict_QUEENS_inj = []\n",
    "# killed\n",
    "bar_dict_NYC_kill = []\n",
    "bar_dict_BRONX_kill = []\n",
    "bar_dict_BROOKLYN_kill = []\n",
    "bar_dict_STATEN_ISLAND_kill = []\n",
    "bar_dict_MANHATTAN_kill = []\n",
    "bar_dict_QUEENS_kill = []\n",
    "\n",
    "# loop through each time frame\n",
    "for ii in range(0,24):\n",
    "    #print ii\n",
    "    tmp_borough = {}\n",
    "    tmp_borough_inj = {}\n",
    "    tmp_borough_kill = {}\n",
    "    for jj in pra_info['unique borough']:\n",
    "        #print 's'\n",
    "        tmp_borough[jj] = len(raw_DF[(raw_DF['BOROUGH'] == jj) & \n",
    "                                     (raw_DF['HOUR'] == ii)])\n",
    "        tmp_borough_inj[jj] = len(raw_DF[(raw_DF['BOROUGH'] == jj) & \n",
    "                                     (raw_DF['HOUR'] == ii) & \n",
    "                                     (raw_DF['NUMBER OF PERSONS INJURED'] > 0)])\n",
    "        tmp_borough_kill[jj] = len(raw_DF[(raw_DF['BOROUGH'] == jj) & \n",
    "                                     (raw_DF['HOUR'] == ii) & \n",
    "                                     (raw_DF['NUMBER OF PERSONS KILLED'] > 0)])\n",
    "        \n",
    "    # sum all for given time slot\n",
    "    tmp_sum = np.sum(tmp_borough.values())\n",
    "    tmp_sum_inj = np.sum(tmp_borough_inj.values())\n",
    "    tmp_sum_kill = np.sum(tmp_borough_kill.values())\n",
    "    \n",
    "    # append time slot to list\n",
    "    bar_dict_NYC.append({'key': tmp_x_key[ii], 'value': tmp_sum})\n",
    "    bar_dict_BRONX.append({'key': tmp_x_key[ii], 'value': tmp_borough['BRONX']})\n",
    "    bar_dict_BROOKLYN.append({'key': tmp_x_key[ii], 'value': tmp_borough['BROOKLYN']})\n",
    "    bar_dict_STATEN_ISLAND.append({'key': tmp_x_key[ii], 'value': tmp_borough['STATEN ISLAND']})\n",
    "    bar_dict_MANHATTAN.append({'key': tmp_x_key[ii], 'value': tmp_borough['MANHATTAN']})\n",
    "    bar_dict_QUEENS.append({'key': tmp_x_key[ii], 'value': tmp_borough['QUEENS']})\n",
    "    \n",
    "    # append observations for injuries\n",
    "    bar_dict_NYC_inj.append({'key': tmp_x_key[ii], 'value': tmp_sum_inj})\n",
    "    bar_dict_BRONX_inj.append({'key': tmp_x_key[ii], 'value': tmp_borough_inj['BRONX']})\n",
    "    bar_dict_BROOKLYN_inj.append({'key': tmp_x_key[ii], 'value': tmp_borough_inj['BROOKLYN']})\n",
    "    bar_dict_STATEN_ISLAND_inj.append({'key': tmp_x_key[ii], 'value': tmp_borough_inj['STATEN ISLAND']})\n",
    "    bar_dict_MANHATTAN_inj.append({'key': tmp_x_key[ii], 'value': tmp_borough_inj['MANHATTAN']})\n",
    "    bar_dict_QUEENS_inj.append({'key': tmp_x_key[ii], 'value': tmp_borough_inj['QUEENS']})\n",
    "    \n",
    "    # append observations for deadly outcomes\n",
    "    bar_dict_NYC_kill.append({'key': tmp_x_key[ii], 'value': tmp_sum_kill})\n",
    "    bar_dict_BRONX_kill.append({'key': tmp_x_key[ii], 'value': tmp_borough_kill['BRONX']})\n",
    "    bar_dict_BROOKLYN_kill.append({'key': tmp_x_key[ii], 'value': tmp_borough_kill['BROOKLYN']})\n",
    "    bar_dict_STATEN_ISLAND_kill.append({'key': tmp_x_key[ii], 'value': tmp_borough_kill['STATEN ISLAND']})\n",
    "    bar_dict_MANHATTAN_kill.append({'key': tmp_x_key[ii], 'value': tmp_borough_kill['MANHATTAN']})\n",
    "    bar_dict_QUEENS_kill.append({'key': tmp_x_key[ii], 'value': tmp_borough_kill['QUEENS']})\n",
    "    \n",
    "# create bar jsons \n",
    "createJSON(bar_dict_NYC, 'data/bar_dict_NYC.json')\n",
    "createJSON(bar_dict_BRONX, 'data/bar_dict_BRONX.json')\n",
    "createJSON(bar_dict_BROOKLYN, 'data/bar_dict_BROOKLYN.json')\n",
    "createJSON(bar_dict_STATEN_ISLAND, 'data/bar_dict_STATEN_ISLAND.json')\n",
    "createJSON(bar_dict_MANHATTAN, 'data/bar_dict_MANHATTAN.json')\n",
    "createJSON(bar_dict_QUEENS, 'data/bar_dict_QUEENS.json')\n",
    "\n",
    "createJSON(bar_dict_NYC_inj, 'data/bar_dict_NYC_inj.json')\n",
    "createJSON(bar_dict_BRONX_inj, 'data/bar_dict_BRONX_inj.json')\n",
    "createJSON(bar_dict_BROOKLYN_inj, 'data/bar_dict_BROOKLYN_inj.json')\n",
    "createJSON(bar_dict_STATEN_ISLAND_inj, 'data/bar_dict_STATEN_ISLAND_inj.json')\n",
    "createJSON(bar_dict_MANHATTAN_inj, 'data/bar_dict_MANHATTAN_inj.json')\n",
    "createJSON(bar_dict_QUEENS_inj, 'data/bar_dict_QUEENS_inj.json')\n",
    "\n",
    "createJSON(bar_dict_NYC_kill, 'data/bar_dict_NYC_kill.json')\n",
    "createJSON(bar_dict_BRONX_kill, 'data/bar_dict_BRONX_kill.json')\n",
    "createJSON(bar_dict_BROOKLYN_kill, 'data/bar_dict_BROOKLYN_kill.json')\n",
    "createJSON(bar_dict_STATEN_ISLAND_kill, 'data/bar_dict_STATEN_ISLAND_kill.json')\n",
    "createJSON(bar_dict_MANHATTAN_kill, 'data/bar_dict_MANHATTAN_kill.json')\n",
    "createJSON(bar_dict_QUEENS_kill, 'data/bar_dict_QUEENS_kill.json')"
   ]
  },
  {
   "cell_type": "markdown",
   "metadata": {},
   "source": [
    "View the barplot here: titanbender.github.io"
   ]
  },
  {
   "cell_type": "markdown",
   "metadata": {},
   "source": [
    "One pattern that appearsis that both injuries and deadly accidents appear more frequently in the late afternoon. Whereas the number of injuries varies more throughout the day (although often a smooth trend), the number of deadly accidents doesn't vary as much."
   ]
  },
  {
   "cell_type": "markdown",
   "metadata": {},
   "source": [
    "### Time Series"
   ]
  },
  {
   "cell_type": "markdown",
   "metadata": {},
   "source": [
    "The purpose of the time series is to understand how accidents are distributed across months for pedestrians, cyclists, motorists and all of them aggregated. A visualization of the time series will help the police understand which months are the most critical and also which types of civilians that are in particular danger throughout the year. "
   ]
  },
  {
   "cell_type": "code",
   "execution_count": 10,
   "metadata": {
    "collapsed": false
   },
   "outputs": [],
   "source": [
    "# Time Series\n",
    "ts_json_tot = []; ts_json_ped = []; ts_json_cyc = []\n",
    "ts_json_mot = []; ts_json_NYC = []\n",
    "\n",
    "# loop for each day\n",
    "for dd in pra_info['unique days']:\n",
    "    # init temp dict\n",
    "    tmp_tot = {}\n",
    "    tmp_ped = {}\n",
    "    tmp_cyc = {}\n",
    "    tmp_mot = {}\n",
    "\n",
    "    # loop for each borough\n",
    "    for bb in pra_info['unique borough']:\n",
    "        # init dict\n",
    "        tmp_tot[bb] = {}\n",
    "        tmp_ped[bb] = {}\n",
    "        tmp_cyc[bb] = {}\n",
    "        tmp_mot[bb] = {}\n",
    "        # add date\n",
    "        tmp_tot[bb]['date'] = dd\n",
    "        tmp_ped[bb]['date'] = dd\n",
    "        tmp_cyc[bb]['date'] = dd\n",
    "        tmp_mot[bb]['date'] = dd\n",
    "        # find indices for unique day and unique borough\n",
    "        tmp_idx = list(raw_DF[(raw_DF['DATE'] == dd) & (raw_DF['BOROUGH'] == bb)].index)\n",
    "        #\n",
    "        tmp_ped[bb]['inj'] = np.sum(raw_DF['NUMBER OF PEDESTRIANS INJURED'].iloc[tmp_idx])# / len(tmp_idx) * 100\n",
    "        tmp_ped[bb]['kill'] = np.sum(raw_DF['NUMBER OF PEDESTRIANS KILLED'].iloc[tmp_idx])# / len(tmp_idx) * 100\n",
    "        tmp_ped[bb]['tot'] = (tmp_ped[bb]['inj'] + tmp_ped[bb]['kill'])\n",
    "        \n",
    "        tmp_cyc[bb]['inj'] = np.sum(raw_DF['NUMBER OF CYCLIST INJURED'].iloc[tmp_idx])# / len(tmp_idx) * 100\n",
    "        tmp_cyc[bb]['kill'] = np.sum(raw_DF['NUMBER OF CYCLIST KILLED'].iloc[tmp_idx])# / len(tmp_idx) * 100\n",
    "        tmp_cyc[bb]['tot'] = (tmp_cyc[bb]['inj'] + tmp_cyc[bb]['kill'])\n",
    "        \n",
    "        tmp_mot[bb]['inj'] = np.sum(raw_DF['NUMBER OF MOTORIST INJURED'].iloc[tmp_idx])# / len(tmp_idx) * 100\n",
    "        tmp_mot[bb]['kill'] = np.sum(raw_DF['NUMBER OF MOTORIST KILLED'].iloc[tmp_idx])# / len(tmp_idx) * 100\n",
    "        tmp_mot[bb]['tot'] = (tmp_mot[bb]['inj'] + tmp_mot[bb]['kill'])\n",
    "\n",
    "        tmp_tot[bb]['inj'] = np.sum(raw_DF['NUMBER OF PERSONS INJURED'].iloc[tmp_idx])# / len(tmp_idx) * 100\n",
    "        tmp_tot[bb]['kill'] = np.sum(raw_DF['NUMBER OF PERSONS KILLED'].iloc[tmp_idx])# / len(tmp_idx) * 100\n",
    "        tmp_tot[bb]['tot'] = (tmp_tot[bb]['inj'] + tmp_tot[bb]['kill'])\n",
    "\n",
    "    # append day and info to the json list\n",
    "    ts_json_tot.append(tmp_tot)\n",
    "    ts_json_ped.append(tmp_ped)\n",
    "    ts_json_cyc.append(tmp_cyc)\n",
    "    ts_json_mot.append(tmp_mot)\n",
    "    \n",
    "    # NYC\n",
    "    tmp_idx = list(raw_DF[raw_DF['DATE'] == dd].index)\n",
    "    tmp = [np.sum(raw_DF['NUMBER OF PERSONS INJURED'].iloc[tmp_idx]),# / len(tmp_idx) * 100,\n",
    "           np.sum(raw_DF['NUMBER OF PERSONS KILLED'].iloc[tmp_idx])]# / len(tmp_idx) * 100]\n",
    "    ts_json_NYC.append({'date': dd,\n",
    "                        'inj': tmp[0],\n",
    "                        'kill': tmp[1],\n",
    "                        'tot': np.sum(tmp)\n",
    "                       })\n",
    "\n",
    "# create json files\n",
    "for bb in pra_info['unique borough']:\n",
    "    # tot\n",
    "    tmp = [ts_json_tot[ii][bb] for ii in range(0,len(ts_json_tot))]\n",
    "    tmp.sort(key=lambda x: dt.datetime.strptime(x['date'], '%m/%d/%Y'))\n",
    "    createJSON(tmp,'data/ts/ts_tot_' + bb + '.json')\n",
    "    # ped\n",
    "    tmp = [ts_json_ped[ii][bb] for ii in range(0,len(ts_json_ped))]\n",
    "    tmp.sort(key=lambda x: dt.datetime.strptime(x['date'], '%m/%d/%Y'))\n",
    "    createJSON(tmp,'data/ts/ts_ped_' + bb + '.json')\n",
    "    # cyc\n",
    "    tmp = [ts_json_cyc[ii][bb] for ii in range(0,len(ts_json_cyc))]\n",
    "    tmp.sort(key=lambda x: dt.datetime.strptime(x['date'], '%m/%d/%Y'))\n",
    "    createJSON(tmp,'data/ts/ts_cyc_' + bb + '.json')\n",
    "    # mot\n",
    "    tmp = [ts_json_mot[ii][bb] for ii in range(0,len(ts_json_mot))]\n",
    "    tmp.sort(key=lambda x: dt.datetime.strptime(x['date'], '%m/%d/%Y'))\n",
    "    createJSON(tmp,'data/ts/ts_mot_' + bb + '.json')\n",
    "\n",
    "# create json for NYC total\n",
    "tmp = [ts_json_NYC[ii] for ii in range(0,len(ts_json_NYC))]\n",
    "tmp.sort(key=lambda x: dt.datetime.strptime(x['date'], '%m/%d/%Y'))\n",
    "createJSON(tmp,'data/ts/ts_NYC.json')"
   ]
  },
  {
   "cell_type": "markdown",
   "metadata": {},
   "source": [
    "View the time series here: titanbender.github.io"
   ]
  },
  {
   "cell_type": "markdown",
   "metadata": {},
   "source": [
    "By observing the aggregegated data for injuries, a clear pattern emerges in which accidents increase from the start of the year. Then the number of accidents peaks during the summer months and then decreases towards the end of the year."
   ]
  },
  {
   "cell_type": "markdown",
   "metadata": {},
   "source": [
    "<b>Anomoly in August 2016:</b> As mentioned in the movie and also identified in part 1, basic statistics, a lot of minimum outliers are located in August 2016. In fact, one of the days only have 1 accident and the 9 other minimum observations are also in the same period. I've done some research and believe I've found the reason. In 2016, the city of New York organized open streets throughout August, in which streets were closed for cars to make room for running biking and walking. Although the event was targeting the weekends in August, the logistics to set everything up could have hindered traffic to flow as usual and thereby minimize accidents during this period. Information about Summer Streets can be found here: http://www.nyc.gov/html/dot/summerstreets/html/home/home.shtml"
   ]
  },
  {
   "cell_type": "markdown",
   "metadata": {},
   "source": [
    "### Weather correlation"
   ]
  },
  {
   "cell_type": "markdown",
   "metadata": {},
   "source": [
    "One of the hypothesis made in this assignment is that rain fall impacts the number of trafic accidents. Below are the code in which a linear relationsship between the two are explored. As the data sets might not completely overlap, we had to match for the overlapping dates first."
   ]
  },
  {
   "cell_type": "code",
   "execution_count": 11,
   "metadata": {
    "collapsed": false
   },
   "outputs": [],
   "source": [
    "# Create lists for rain fall and unique dates\n",
    "rainList = list(weather_DF['PRCP'])\n",
    "\n",
    "# create list of unique dates\n",
    "uniqueDateList = set(newDateList)\n",
    "\n",
    "# Creating dictionary with rain fall average per day\n",
    "dayRainDic = {}\n",
    "for day in uniqueDateList:\n",
    "    tmp = 0\n",
    "    counter = 0\n",
    "    avg = 0\n",
    "    for x in range(0,len(newDateList)-1):\n",
    "        if day == newDateList[x]:\n",
    "            # Clean rain data\n",
    "            if rainList[x] >= 0:\n",
    "                tmp += rainList[x]\n",
    "                counter += 1\n",
    "    if tmp != 0:\n",
    "        avg = tmp / counter\n",
    "        dayRainDic[day] = avg\n",
    "    else:\n",
    "        dayRainDic[day] = 0\n",
    "        \n",
    "# adding accidents to the rain fall dictionary\n",
    "accDateList = raw_DF['DATE']\n",
    "setAccDateList = set(accDateList)\n",
    "\n",
    "\n",
    "# Create lists for rain fall and unique dates\n",
    "rainList = list(weather_DF['PRCP'])\n",
    "uniqueDateList = set(newDateList)\n",
    "\n",
    "# Creating dictionary with rain fall average per day\n",
    "dayRainDic = {}\n",
    "for day in uniqueDateList:\n",
    "    tmp_list = []\n",
    "    tmp = 0\n",
    "    counter = 0\n",
    "    avg = 0\n",
    "    for x in range(0,len(newDateList)-1):\n",
    "        if day == newDateList[x]:\n",
    "            # Clean rain data\n",
    "            if rainList[x] >= 0:\n",
    "                tmp += rainList[x]\n",
    "                counter += 1\n",
    "    if tmp != 0:\n",
    "        avg = tmp / counter\n",
    "        tmp_list.append(avg)\n",
    "        tmp_list.append(pra_info['No. days'][day])\n",
    "        dayRainDic[day] = tmp_list\n",
    "    else:\n",
    "        tmp_list.append(0)\n",
    "        tmp_list.append(pra_info['No. days'][day])\n",
    "        dayRainDic[day] = tmp_list\n",
    "        \n",
    "# adding accidents to the rain fall dictionary\n",
    "accDateList = raw_DF['DATE']\n",
    "setAccDateList = set(accDateList)"
   ]
  },
  {
   "cell_type": "code",
   "execution_count": 12,
   "metadata": {
    "collapsed": false
   },
   "outputs": [],
   "source": [
    "WeatherplotX = []\n",
    "WeatherplotY = []\n",
    "\n",
    "for value in dayRainDic.values():    \n",
    "    WeatherplotX.append(value[0])\n",
    "    WeatherplotY.append(value[1])"
   ]
  },
  {
   "cell_type": "code",
   "execution_count": 13,
   "metadata": {
    "collapsed": false
   },
   "outputs": [
    {
     "name": "stdout",
     "output_type": "stream",
     "text": [
      "1.27409541019\n",
      "407.627933646\n",
      "(0.079348950344849942, 0.0024041773833753635)\n"
     ]
    }
   ],
   "source": [
    "# linear regression\n",
    "from scipy import stats\n",
    "from scipy.stats.stats import pearsonr\n",
    "\n",
    "# create method to calculate alpha, beta and the plots for the regression\n",
    "def least_squares_lm_fit(x, y):\n",
    "    import numpy as np\n",
    "    N = len(x)\n",
    "    rho = stats.pearsonr(x,y)[0]\n",
    "    alpha = rho * np.std(y) / np.std(x) \n",
    "    beta = np.mean(y) - alpha * np.mean(x)\n",
    "    # for plotting line\n",
    "    line_x = list(np.linspace(min(x), max(x), num = N))\n",
    "    line_y = [beta + line_x[ii] * alpha for ii in range(0,len(line_x))]\n",
    "    \n",
    "    return alpha, beta, line_x, line_y\n",
    "\n",
    "line_x = (least_squares_lm_fit(WeatherplotX, WeatherplotY)[2])\n",
    "line_y = least_squares_lm_fit(WeatherplotX, WeatherplotY)[3]\n",
    "alpha = least_squares_lm_fit(WeatherplotX, WeatherplotY)[0]\n",
    "beta = least_squares_lm_fit(WeatherplotX, WeatherplotY)[1]\n",
    "rho = pearsonr(WeatherplotX, WeatherplotY)\n",
    "\n",
    "print alpha\n",
    "print beta\n",
    "print rho"
   ]
  },
  {
   "cell_type": "code",
   "execution_count": 14,
   "metadata": {
    "collapsed": false
   },
   "outputs": [
    {
     "data": {
      "image/png": "[encoded data removed]",
      "text/plain": [
       "<matplotlib.figure.Figure at 0x117d39a50>"
      ]
     },
     "metadata": {},
     "output_type": "display_data"
    },
    {
     "name": "stdout",
     "output_type": "stream",
     "text": [
      "the alpha between rainfall and number of accidents is: 1.274\n",
      "the number of people in accidents when there is no rainfall: 407.628\n",
      "the pearson correlation between the number of people involved in accident and rain fall is: 0.079\n"
     ]
    }
   ],
   "source": [
    "# plot the results found in last step\n",
    "plt.close('All')\n",
    "f, axarr = plt.subplots(1, 1)\n",
    "axarr.scatter(WeatherplotX, WeatherplotY, alpha=0.8)\n",
    "axarr.set_title('Weatherplot', fontsize = 8)\n",
    "axarr.plot(line_x, line_y, alpha=0.5, color = 'red')\n",
    "axarr.set_xlabel('rain fall in mm')\n",
    "axarr.set_ylabel('number people in accidents')\n",
    "plt.show()\n",
    "print \"the alpha between rainfall and number of accidents is: {0:.3f}\".format(alpha)\n",
    "print \"the number of people in accidents when there is no rainfall: {0:.3f}\".format(beta)\n",
    "print \"the pearson correlation between the number of people involved in accident and rain fall is: {0:.3f}\".format(rho[0])"
   ]
  },
  {
   "cell_type": "markdown",
   "metadata": {},
   "source": [
    "As a pearson correlation (PR) of 0 implies no linear correlation and the PR value for rain fall and number of accidents is almost 0, it can concluded from the data set that rain fall does not have a significant impact on the number of people in trafic accidents."
   ]
  },
  {
   "cell_type": "markdown",
   "metadata": {},
   "source": [
    "## 3. Theory. Which theoretical tools did you use?\n",
    "\n",
    "### - A) Describe which machine learning tools you use and why the tools you've chosen are right for the problem you're solving.\n",
    "\n",
    "In order to predict the severity of a trafic acccident KNN and Decision Trees were chosen among the different machine learning tools. As we're dealing with geographic data for the accidents, KNN was an obvious choice as it is a fair hypothesis that accidents of different severity could occur in clusters. KNN analysis with geographic information is also easy to visualize, making it applicable within the scope of the course. <br> <br>\n",
    "Decision trees was chosen as it is a tool whichs helps identify the right order questions to identify a specific outcome - in this case if an accident is deadly or not. Therefore, the results from a decision tree could be used as a list of questions to determine the severity of accident as it is being reported. Whether this is a good idea is determined by the tests of the training data.\n"
   ]
  },
  {
   "cell_type": "markdown",
   "metadata": {},
   "source": [
    "## KNN"
   ]
  },
  {
   "cell_type": "code",
   "execution_count": 15,
   "metadata": {
    "collapsed": false
   },
   "outputs": [
    {
     "name": "stdout",
     "output_type": "stream",
     "text": [
      "Non fatal accidents: 81.420%\n",
      "Fatal accidents:     18.580%\n"
     ]
    }
   ],
   "source": [
    "# Create dict for prediction tool\n",
    "knn_dict = {}\n",
    "knn_dict['lat'] = list(raw_DF['LATITUDE'])\n",
    "knn_dict['lat_min_max'] = [np.min(knn_dict['lat']), np.max(knn_dict['lat'])]\n",
    "knn_dict['lon'] = list(raw_DF['LONGITUDE'])\n",
    "knn_dict['lon_min_max'] = [np.min(knn_dict['lon']), np.max(knn_dict['lon'])]\n",
    "knn_dict['time'] = list(raw_DF['TIME_DEC'])\n",
    "knn_dict['month'] = list(raw_DF['MONTH'])\n",
    "knn_dict['year'] = list(raw_DF['YEAR'])\n",
    "\n",
    "knn_dict['class'] = list(raw_DF['KNN_bool'])\n",
    "colorList = []\n",
    "for value in list(raw_DF['KNN_bool']):\n",
    "                  if value == False:\n",
    "                      colorList.append(\"rgba(255,255,0,0.5)\")\n",
    "                  else:\n",
    "                      colorList.append(\"rgba(255,0,0,0.5)\")\n",
    "knn_dict['color'] = colorList\n",
    "knn_dict['N'] = len(knn_dict['class'])\n",
    "\n",
    "# KNN dictionaries for predictions\n",
    "knn_dict['X'] = np.array([[knn_dict['lat'][ii], knn_dict['lon'][ii], knn_dict['time'][ii], knn_dict['month'][ii]] for ii in range(0,knn_dict['N'])])\n",
    "# including only latitude and longtitude values\n",
    "knn_dict['Basic'] = np.array([[knn_dict['lat'][ii], knn_dict['lon'][ii]] for ii in range(0,knn_dict['N'])])\n",
    "# \n",
    "knn_dict['y'] = np.array([knn_dict['class'][ii] for ii in range(0,knn_dict['N'])])\n",
    "\n",
    "# create small geo data for heatmap\n",
    "knn_json = [{'lat': knn_dict['lat'][ii],\n",
    "             'lon': knn_dict['lon'][ii],\n",
    "             'color': knn_dict['color'][ii],\n",
    "             'class': knn_dict['class'][ii]} for ii in range(0,2000)] \n",
    "\n",
    "# create large geo data for heatmap\n",
    "knn_large_json = [{'lat': knn_dict['lat'][ii],\n",
    "             'lon': knn_dict['lon'][ii],\n",
    "             'color': knn_dict['color'][ii],\n",
    "             'class': knn_dict['class'][ii]} for ii in range(0,knn_dict['N'])] \n",
    "\n",
    "# create indexes for different years\n",
    "ind_2013 = []\n",
    "ind_2014 = []\n",
    "ind_2015 = []\n",
    "ind_2016 = []\n",
    "list_indexes = [ind_2013,ind_2014,ind_2015,ind_2016]\n",
    "\n",
    "# create function for identifying indexes\n",
    "def yearJson(year,ind_list):\n",
    "    counter = 0\n",
    "    for x in range(0,knn_dict['N']):\n",
    "        if counter < 1000:\n",
    "            if knn_dict['year'][x] == year:\n",
    "                ind_list.append(x)\n",
    "                counter += 1\n",
    "                \n",
    "# create list of indexes           \n",
    "yearJson(2013,ind_2013)\n",
    "yearJson(2014,ind_2014)\n",
    "yearJson(2015,ind_2015)\n",
    "yearJson(2016,ind_2016)\n",
    "\n",
    "fileNames = ['data/knn_json_samples_2013.json', 'data/knn_json_samples_2014.json', 'data/knn_json_samples_2015.json', 'data/knn_json_samples_2016.json']\n",
    "\n",
    "# create JSON files for all years\n",
    "for x in range (0, len(list_indexes)):\n",
    "    tmp = [knn_large_json[y] for y in list_indexes[x]]  \n",
    "    createJSON(tmp, fileNames[x]) \n",
    "\n",
    "# create JSON files for sample of all the years \n",
    "import random\n",
    "knn_json_samples = random.sample(knn_json, 1000)\n",
    "createJSON(knn_json, 'data/knn_json.json') \n",
    "createJSON(knn_json_samples, 'data/knn_json_samples.json')\n",
    "\n",
    "# \n",
    "tmp = collections.Counter(knn_dict['class'])\n",
    "print 'Non fatal accidents: {0:.3f}%'.format(tmp.values()[0] / np.sum(tmp.values()) * 100)\n",
    "print 'Fatal accidents:     {0:.3f}%'.format(tmp.values()[1] / np.sum(tmp.values()) * 100)"
   ]
  },
  {
   "cell_type": "markdown",
   "metadata": {},
   "source": [
    "Before we begin to predict the outcomes, we wanted to show the split between fatal and non-fatal accidents. As you can see the relationsship is about 4:1 for every fatal accident. This is important as overrepresented data will impact the KNN analysis. "
   ]
  },
  {
   "cell_type": "markdown",
   "metadata": {},
   "source": [
    "## 3. Theory. Which theoretical tools did you use?\n",
    "\n",
    "### - B) Talk about your model selection. How did you split the data in to test/training. Did you use cross validation?\n",
    "\n",
    "To determine the optimal parameters for our predictive calculations, we split our dataset into K-fold 10 and calculated the error rate as a function of the N nearest neighboors. The results of the error rate in % is displayed in a plot below. Cross validation was used in the calculations to check whether the model was under - or over-fitting."
   ]
  },
  {
   "cell_type": "code",
   "execution_count": 16,
   "metadata": {
    "collapsed": false
   },
   "outputs": [
    {
     "name": "stdout",
     "output_type": "stream",
     "text": [
      "Cross validation fold: 1/10\n"
     ]
    },
    {
     "data": {
      "image/png": "[encoded data removed]",
      "text/plain": [
       "<matplotlib.figure.Figure at 0x11c3252d0>"
      ]
     },
     "metadata": {},
     "output_type": "display_data"
    },
    {
     "name": "stdout",
     "output_type": "stream",
     "text": [
      "Cross validation fold: 2/10\n"
     ]
    },
    {
     "data": {
      "image/png": "[encoded data removed]",
      "text/plain": [
       "<matplotlib.figure.Figure at 0x15d28fc10>"
      ]
     },
     "metadata": {},
     "output_type": "display_data"
    },
    {
     "name": "stdout",
     "output_type": "stream",
     "text": [
      "Cross validation fold: 3/10\n"
     ]
    },
    {
     "data": {
      "image/png": "[encoded data removed]",
      "text/plain": [
       "<matplotlib.figure.Figure at 0x11c0a7c50>"
      ]
     },
     "metadata": {},
     "output_type": "display_data"
    },
    {
     "name": "stdout",
     "output_type": "stream",
     "text": [
      "Cross validation fold: 4/10\n"
     ]
    },
    {
     "data": {
      "image/png": "[encoded data removed]",
      "text/plain": [
       "<matplotlib.figure.Figure at 0x149cdced0>"
      ]
     },
     "metadata": {},
     "output_type": "display_data"
    },
    {
     "name": "stdout",
     "output_type": "stream",
     "text": [
      "Cross validation fold: 5/10\n"
     ]
    },
    {
     "data": {
      "image/png": "[encoded data removed]",
      "text/plain": [
       "<matplotlib.figure.Figure at 0x147695050>"
      ]
     },
     "metadata": {},
     "output_type": "display_data"
    },
    {
     "name": "stdout",
     "output_type": "stream",
     "text": [
      "Cross validation fold: 6/10\n"
     ]
    },
    {
     "data": {
      "image/png": "[encoded data removed]",
      "text/plain": [
       "<matplotlib.figure.Figure at 0x14a624590>"
      ]
     },
     "metadata": {},
     "output_type": "display_data"
    },
    {
     "name": "stdout",
     "output_type": "stream",
     "text": [
      "Cross validation fold: 7/10\n"
     ]
    },
    {
     "data": {
      "image/png": "[encoded data removed]",
      "text/plain": [
       "<matplotlib.figure.Figure at 0x149cd5710>"
      ]
     },
     "metadata": {},
     "output_type": "display_data"
    },
    {
     "name": "stdout",
     "output_type": "stream",
     "text": [
      "Cross validation fold: 8/10\n"
     ]
    },
    {
     "data": {
      "image/png": "[encoded data removed]",
      "text/plain": [
       "<matplotlib.figure.Figure at 0x14a59ab90>"
      ]
     },
     "metadata": {},
     "output_type": "display_data"
    },
    {
     "name": "stdout",
     "output_type": "stream",
     "text": [
      "Cross validation fold: 9/10\n"
     ]
    },
    {
     "data": {
      "image/png": "[encoded data removed]",
      "text/plain": [
       "<matplotlib.figure.Figure at 0x14ae00f90>"
      ]
     },
     "metadata": {},
     "output_type": "display_data"
    },
    {
     "name": "stdout",
     "output_type": "stream",
     "text": [
      "Cross validation fold: 10/10\n"
     ]
    },
    {
     "data": {
      "image/png": "[encoded data removed]",
      "text/plain": [
       "<matplotlib.figure.Figure at 0x14b7b3f90>"
      ]
     },
     "metadata": {},
     "output_type": "display_data"
    }
   ],
   "source": [
    "# Estimate model parameters for KNN using cross validation\n",
    "# Maximum number of neighbors\n",
    "K = 50\n",
    "N = knn_dict['N']\n",
    "# K-fold crossvalidation\n",
    "K_fold = 10\n",
    "CV = cross_validation.KFold(N, K_fold, shuffle = False)\n",
    "#CV = cross_validation.LeaveOneOut(N)\n",
    "\n",
    "errors = np.zeros((N, K))\n",
    "i = 0\n",
    "for train_index, test_index in CV:\n",
    "    print 'Cross validation fold: {0}/{1}'.format(i + 1, CV.n_folds)\n",
    "    \n",
    "    # extract training and test set for current CV fold\n",
    "    X_train = knn_dict['X'][train_index,:]\n",
    "    y_train = knn_dict['y'][train_index]\n",
    "    X_test = knn_dict['X'][test_index,:]\n",
    "    y_test = knn_dict['y'][test_index]\n",
    "\n",
    "    # Fit classifier and classify the test points (consider 1 to 40 neighbors)\n",
    "    for k in range(1, K + 1):\n",
    "        knclassifier = KNeighborsClassifier(n_neighbors = k);\n",
    "        knclassifier.fit(X_train, y_train);\n",
    "        y_est = knclassifier.predict(X_test);\n",
    "        errors[i, k - 1] = np.sum(y_est != y_test)\n",
    "    # \n",
    "    i +=1\n",
    "    \n",
    "    # if this does not work put the last section below a tab back!\n",
    "    # Plot the classification error rate\n",
    "    plt.plot(range(1,errors.shape[1] + 1), (100 * np.sum(errors,0) / N).tolist())\n",
    "    plt.xlabel('Number of neighbors')\n",
    "    plt.ylabel('Classification error rate (%)')\n",
    "    plt.show()"
   ]
  },
  {
   "cell_type": "markdown",
   "metadata": {},
   "source": [
    "## 3. Theory. Which theoretical tools did you use?\n",
    "\n",
    "\n",
    "### - C) Explain the model performance. How did you measure it? Are your results what you expected?\n",
    "From the graph above it is clear that when we training data increases the error rate also goes up. This indicats that more data leads to overfitting of the model. The best cross validation model shows a split of 1/10 between training and testing data.\n",
    "\n",
    "Another clear trend is that the error rate for predictions drop significantly as the number of neighboors for the classification increases. However, the marginal increase in prediction rates plateau after 20 neighboors. Since more neighboors it could be argued that one should use 20 neighboors for the KNN analysis, even though the plots above show that the predictions become slightly more accurate as the number of neighbors reaches 50. "
   ]
  },
  {
   "cell_type": "code",
   "execution_count": 17,
   "metadata": {
    "collapsed": false
   },
   "outputs": [
    {
     "name": "stdout",
     "output_type": "stream",
     "text": [
      "Non fatal accidents: 99.997%\n",
      "Fatal accidents:     0.003%\n"
     ]
    }
   ],
   "source": [
    "# Fitting KKN for the complete observations\n",
    "knn_dict['k_opt'] = np.argmin(np.sum(errors,0)) + 1\n",
    "knn_dict['knn_opt_fit'] = KNeighborsClassifier(n_neighbors = knn_dict['k_opt']);\n",
    "\n",
    "knn_dict['knn_opt_fit'].fit(knn_dict['X'], knn_dict['y']);\n",
    "lat_min, lat_max = knn_dict['lat_min_max']\n",
    "lon_min, lon_max = knn_dict['lon_min_max']\n",
    "\n",
    "# use complete data to classify based upon the optimal split between training and test data from the cross validation \n",
    "pre = knn_dict['X'].tolist()\n",
    "# prediction\n",
    "Z = knn_dict['knn_opt_fit'].predict(pre)\n",
    "\n",
    "# prepare the dictionary for the json format\n",
    "pre_knn_dict = {}\n",
    "pre_knn_dict['lat'] = [pre[ii][0] for ii in range(0,len(Z))]\n",
    "pre_knn_dict['lon'] = [pre[ii][1] for ii in range(0,len(Z))]\n",
    "pre_knn_dict['time'] = [pre[ii][2] for ii in range(0,len(Z))]\n",
    "pre_knn_dict['month'] = [pre[ii][3] for ii in range(0,len(Z))]\n",
    "pre_knn_dict['class'] = [Z[ii] for ii in range(0,len(Z))]\n",
    "\n",
    "# add color to the dictionary\n",
    "colorList = []\n",
    "for value in list(pre_knn_dict['class']):\n",
    "                  if value == False:\n",
    "                      colorList.append(\"rgba(255,255,0,0.5)\")\n",
    "                  else:\n",
    "                      colorList.append(\"rgba(255,0,0,0.5)\")\n",
    "knn_dict['color'] = colorList\n",
    "\n",
    "knn_opt_json = [{'lat': pre_knn_dict['lat'][ii],\n",
    "                 'lon': pre_knn_dict['lon'][ii],\n",
    "                 'class': pre_knn_dict['class'][ii]} for ii in range(0,len(pre_knn_dict['class']))]\n",
    "# create json file\n",
    "createJSON(knn_opt_json, 'data/knn_opt_json.json') \n",
    "\n",
    "# prediction values when the parameters included are geodata, time, and month\n",
    "tmp = collections.Counter(pre_knn_dict['class'])\n",
    "print 'Non fatal accidents: {0:.3f}%'.format(tmp.values()[0] / np.sum(tmp.values()) * 100)\n",
    "print 'Fatal accidents:     {0:.3f}%'.format(tmp.values()[1] / np.sum(tmp.values()) * 100)"
   ]
  },
  {
   "cell_type": "markdown",
   "metadata": {},
   "source": [
    "As seen from the split between non-lethal and lethal accidents, it's evident that non-fatal accidents are predicted almost everytime. One reason for this is that non-fatal are the majority of the observations in our data set. To counter this unbalance, we will create a balanced data set of observations between fatal - and non-fatals accidents. Another way to balance the overrepresentation of lethal accidents would be to change the number of nearest neighbors to 20. A smaller number of neighbors, should allow for more lethal accidents to be predicted. However, this also depends on the spread of the observations."
   ]
  },
  {
   "cell_type": "code",
   "execution_count": 18,
   "metadata": {
    "collapsed": false
   },
   "outputs": [
    {
     "data": {
      "text/plain": [
       "Counter({0: 489592, 1: 111721})"
      ]
     },
     "execution_count": 18,
     "metadata": {},
     "output_type": "execute_result"
    }
   ],
   "source": [
    "collections.Counter(knn_dict['class'])"
   ]
  },
  {
   "cell_type": "markdown",
   "metadata": {},
   "source": [
    "### Balanced KNN calculations"
   ]
  },
  {
   "cell_type": "markdown",
   "metadata": {},
   "source": [
    "In the hypothetical scenario in which fatal and non-fatal accidents are equally frequent, we've created a balanced KNN prediction. The code for the calculations and data preperation can be found below"
   ]
  },
  {
   "cell_type": "code",
   "execution_count": 19,
   "metadata": {
    "collapsed": false
   },
   "outputs": [],
   "source": [
    "# create indexes for balanced set of fatal and non-fatal accidents\n",
    "fat_ind = []\n",
    "nonfat_ind = []\n",
    "\n",
    "for x in range(0,knn_dict['N']):\n",
    "    if knn_dict['class'][x] == 1:\n",
    "            fat_ind.append(x)\n",
    "            \n",
    "counter = 0\n",
    "for x in range(0,knn_dict['N']):\n",
    "    if counter < 111721:\n",
    "        if knn_dict['class'][x] == 0:\n",
    "            nonfat_ind.append(x)\n",
    "            counter += 1\n",
    "\n",
    "# combine the two sets of indexes\n",
    "bal_ind = fat_ind + nonfat_ind"
   ]
  },
  {
   "cell_type": "code",
   "execution_count": 20,
   "metadata": {
    "collapsed": false
   },
   "outputs": [],
   "source": [
    "# use indexes to create new dictionary \n",
    "bal_dic = {}\n",
    "bal_dic['lat'] = [knn_dict['lat'][ii] for ii in bal_ind]\n",
    "bal_dic['lon'] = [knn_dict['lon'][ii] for ii in bal_ind]\n",
    "bal_dic['class'] = [knn_dict['class'][ii] for ii in bal_ind]"
   ]
  },
  {
   "cell_type": "code",
   "execution_count": 21,
   "metadata": {
    "collapsed": false
   },
   "outputs": [],
   "source": [
    "# Plot the decision boundary - Latitude and longtitude values for New York City\n",
    "y_max_lat = 40.730610 + 0.25\n",
    "y_min_lat = 40.730610 - 0.25\n",
    "x_min_lon = -73.935242 - 0.25\n",
    "x_max_lon = -73.935242 + 0.25\n",
    "\n",
    "# create meshgrid for unbalanced data set\n",
    "h = 0.0011\n",
    "\n",
    "# latitude mesh values\n",
    "ygrid = []\n",
    "y = y_min_lat\n",
    "while y < y_max_lat:\n",
    "    ygrid.append(y)\n",
    "    y += h \n",
    "\n",
    "#longtitude mesh values\n",
    "xgrid = []\n",
    "x = x_min_lon\n",
    "while x < x_max_lon:\n",
    "    xgrid.append(x)\n",
    "    x += h \n",
    "\n",
    "# create list including the lon and lat values\n",
    "mesh = []\n",
    "for gridy in ygrid:\n",
    "    for gridx in xgrid:\n",
    "        tmp = []\n",
    "        tmp.append(gridy)\n",
    "        tmp.append(gridx)\n",
    "        mesh.append(tmp)\n",
    "        \n",
    "knn_dict['Mesh'] = mesh"
   ]
  },
  {
   "cell_type": "code",
   "execution_count": 22,
   "metadata": {
    "collapsed": false
   },
   "outputs": [],
   "source": [
    "# KNN dictionaries for predictions\n",
    "bal_dic['X'] = np.array([[bal_dic['lat'][ii], bal_dic['lon'][ii]] for ii in range(0,len(bal_dic['lat']))])"
   ]
  },
  {
   "cell_type": "code",
   "execution_count": 23,
   "metadata": {
    "collapsed": false
   },
   "outputs": [],
   "source": [
    "# Fitting KKN for the complete observations\n",
    "bal_dic['k_opt'] = np.argmin(np.sum(errors,0)) + 1\n",
    "bal_dic['knn_opt_fit'] = KNeighborsClassifier(n_neighbors = knn_dict['k_opt']);\n",
    "\n",
    "bal_dic['knn_opt_fit'].fit(bal_dic['X'], bal_dic['class']);\n",
    "lat_min, lat_max = knn_dict['lat_min_max']\n",
    "lon_min, lon_max = knn_dict['lon_min_max']\n",
    "\n",
    "# use complete data to classify based upon the optimal split between training and test data from the cross validation \n",
    "balpre = bal_dic['X'].tolist()\n",
    "# prediction\n",
    "W = bal_dic['knn_opt_fit'].predict(balpre)"
   ]
  },
  {
   "cell_type": "code",
   "execution_count": 24,
   "metadata": {
    "collapsed": false
   },
   "outputs": [],
   "source": [
    "color_bal = []\n",
    "for value in W:\n",
    "    if value == False:\n",
    "        color_bal.append(\"rgba(255,255,0,0.5)\")\n",
    "    else:\n",
    "        color_bal.append(\"rgba(255,0,0,0.5)\")"
   ]
  },
  {
   "cell_type": "code",
   "execution_count": 25,
   "metadata": {
    "collapsed": false
   },
   "outputs": [
    {
     "name": "stdout",
     "output_type": "stream",
     "text": [
      "percentage of non-lethal accidents predicted out of all preditions: 49.2655812247 %\n"
     ]
    }
   ],
   "source": [
    "# calculate the percentage of non-lethal accidents out of the total predictions on balanced data\n",
    "counter = 0\n",
    "for value in W:\n",
    "    if value == 0:\n",
    "        counter += 1\n",
    "\n",
    "print \"percentage of non-lethal accidents predicted out of all preditions:\", (counter/len(W) * 100),\"%\""
   ]
  },
  {
   "cell_type": "code",
   "execution_count": 26,
   "metadata": {
    "collapsed": true
   },
   "outputs": [],
   "source": [
    "# create balanced KNN for D3\n",
    "knn_bal_json = [{'lat': knn_dict['Mesh'][ii][0],\n",
    "                 'lon': knn_dict['Mesh'][ii][1],\n",
    "                 'color': color_bal[ii]} for ii in range(0,len(knn_dict['Mesh']))] \n",
    "\n",
    "# create small unbalanced KNN for D3\n",
    "knn_bal_sm_json = knn_bal_json[0::3]\n",
    "\n",
    "# create small json file for unbalanced KNN\n",
    "createJSON(knn_bal_sm_json, 'data/knn_bal_sm_json.json')\n",
    "\n",
    "# create large json file for balanced KNN\n",
    "createJSON(knn_bal_json, 'data/knn_bal_json.json') "
   ]
  },
  {
   "cell_type": "code",
   "execution_count": 27,
   "metadata": {
    "collapsed": false
   },
   "outputs": [
    {
     "data": {
      "image/png": "[encoded data removed]",
      "text/plain": [
       "<matplotlib.figure.Figure at 0x14b7dffd0>"
      ]
     },
     "metadata": {},
     "output_type": "display_data"
    }
   ],
   "source": [
    "# import lib\n",
    "import pylab as pl\n",
    "\n",
    "# Plot the decision boundary - Latitude and longtitude values for New York City\n",
    "y_max_lat = 40.730610 + 0.2\n",
    "y_min_lat = 40.730610 - 0.2\n",
    "x_min_lon = -73.935242 - 0.2\n",
    "x_max_lon = -73.935242 + 0.2\n",
    "\n",
    "# create mesh for the plot for balanced set\n",
    "# Plot the decision boundary. For that, we will asign a color to each\n",
    "xx_equal, yy_equal = np.meshgrid(np.arange(x_min_lon, x_max_lon, h), \n",
    "                                 np.arange(y_min_lat, y_max_lat, h))\n",
    "# Put the result into a color plot\n",
    "W_equal = W[0:132496].reshape(xx_equal.shape)\n",
    "pl.figure(1, figsize=(8, 6))\n",
    "pl.set_cmap(pl.cm.Paired)\n",
    "pl.pcolormesh(xx_equal, yy_equal, W_equal)\n",
    "pl.colorbar(ticks = [0,1])\n",
    "\n",
    "#pl.title(\"K = \" + str(K))\n",
    "pl.xlabel('Lon')\n",
    "pl.ylabel('Lat')\n",
    "\n",
    "pl.xlim(x_min_lon, x_max_lon)\n",
    "pl.ylim(y_min_lat, y_max_lat)\n",
    "\n",
    "pl.show()"
   ]
  },
  {
   "cell_type": "markdown",
   "metadata": {},
   "source": [
    "As seen from the predictions in the balanced set, the distributions of fatal and non-fatal injuries seems to be randomly distributed, except a seperating line between 40.85 and 40.90 in which fatal injuries (value of 1) seems to appear more frequently on the southern part and vice versa"
   ]
  },
  {
   "cell_type": "markdown",
   "metadata": {},
   "source": [
    "### Unbalanced KNN Predictions"
   ]
  },
  {
   "cell_type": "markdown",
   "metadata": {},
   "source": [
    "Below are the code for the unbalanced KNN predictions"
   ]
  },
  {
   "cell_type": "code",
   "execution_count": 28,
   "metadata": {
    "collapsed": false
   },
   "outputs": [],
   "source": [
    "# create prediction of accident severity based upon longtitude and latitude information\n",
    "knn_dict['k_opt'] = np.argmin(np.sum(errors,0)) + 1\n",
    "# even though non-lethal observations are the majority\n",
    "knn_dict['knn_opt_fit'] = KNeighborsClassifier(n_neighbors = 50);\n",
    "#knn_dict['knn_opt_fit'] = KNeighborsClassifier(n_neighbors = knn_dict['k_opt']);\n",
    "\n",
    "knn_dict['knn_opt_fit'].fit(knn_dict['Basic'], knn_dict['y']);\n",
    "lat_min, lat_max = y_min_lat ,y_max_lat\n",
    "lon_min, lon_max = x_min_lon, x_max_lon\n",
    "\n",
    "pre = knn_dict['Mesh']\n",
    "Q = knn_dict['knn_opt_fit'].predict(pre)\n",
    "\n",
    "color_unbal = []\n",
    "for value in Q:\n",
    "    if value == False:\n",
    "        color_unbal.append(\"rgba(255,255,0,0.5)\")\n",
    "    else:\n",
    "        color_unbal.append(\"rgba(255,0,0,0.5)\")"
   ]
  },
  {
   "cell_type": "code",
   "execution_count": 29,
   "metadata": {
    "collapsed": false
   },
   "outputs": [],
   "source": [
    "# create large unbalanced KNN for D3\n",
    "knn_unbal_json = [{'lat': knn_dict['Mesh'][ii][0],\n",
    "                 'lon': knn_dict['Mesh'][ii][1],\n",
    "                 'color': color_unbal[ii]} for ii in range(0,len(knn_dict['Mesh']))] \n",
    "\n",
    "# create small unbalanced KNN for D3\n",
    "knn_unbal_sm_json = knn_unbal_json[0::3]\n",
    "\n",
    "# create large json file for unbalanced KNN\n",
    "createJSON(knn_unbal_json, 'data/knn_unbal_json.json') \n",
    "\n",
    "# create small json file for unbalanced KNN\n",
    "createJSON(knn_unbal_sm_json, 'data/knn_unbal_sm_json.json') "
   ]
  },
  {
   "cell_type": "code",
   "execution_count": 30,
   "metadata": {
    "collapsed": false
   },
   "outputs": [
    {
     "name": "stdout",
     "output_type": "stream",
     "text": [
      "percentage of non-lethal accidents predicted out of all preditions: 92.6504417254 %\n"
     ]
    }
   ],
   "source": [
    "# calculate the percentage of non-lethal accidents out of the total predictions on unbalanced data\n",
    "counter = 0\n",
    "for value in Q:\n",
    "    if value == 0:\n",
    "        counter += 1\n",
    "\n",
    "print \"percentage of non-lethal accidents predicted out of all preditions:\", (counter/len(W) * 100),\"%\""
   ]
  },
  {
   "cell_type": "code",
   "execution_count": 31,
   "metadata": {
    "collapsed": false
   },
   "outputs": [
    {
     "data": {
      "image/png": "[encoded data removed]",
      "text/plain": [
       "<matplotlib.figure.Figure at 0x14b7df790>"
      ]
     },
     "metadata": {},
     "output_type": "display_data"
    }
   ],
   "source": [
    "# Put the result into a color plot for unbalanced data set\n",
    "\n",
    "# Plot the decision boundary - Latitude and longtitude values for New York City\n",
    "y_max_lat = 40.730610 + 0.25\n",
    "y_min_lat = 40.730610 - 0.25\n",
    "x_min_lon = -73.935242 - 0.25\n",
    "x_max_lon = -73.935242 + 0.25\n",
    "\n",
    "# create mesh for the plot for balanced set\n",
    "# Plot the decision boundary. For that, we will asign a color to each\n",
    "xx_equal, yy_equal = np.meshgrid(np.arange(x_min_lon, x_max_lon, h), \n",
    "                                 np.arange(y_min_lat, y_max_lat, h))\n",
    "\n",
    "Q_equal = Q[0:207025].reshape(xx_equal.shape)\n",
    "pl.figure(1, figsize=(8, 6))\n",
    "pl.set_cmap(pl.cm.Paired)\n",
    "pl.pcolormesh(xx_equal, yy_equal, Q_equal)\n",
    "pl.colorbar(ticks = [0,1])\n",
    "\n",
    "#pl.title(\"K = \" + str(K))\n",
    "pl.xlabel('Lon')\n",
    "pl.ylabel('Lat')\n",
    "\n",
    "pl.xlim(x_min_lon, x_max_lon)\n",
    "pl.ylim(y_min_lat, y_max_lat)\n",
    "\n",
    "pl.show()"
   ]
  },
  {
   "cell_type": "markdown",
   "metadata": {},
   "source": [
    "As expected when predicting based on the unbalanced data set which consist of a majority of non-lethal accidents, the predictions also guess a similar outcome. "
   ]
  },
  {
   "cell_type": "markdown",
   "metadata": {},
   "source": [
    "# Decision Tree"
   ]
  },
  {
   "cell_type": "markdown",
   "metadata": {},
   "source": [
    "A decision tree is a machine learning tool allowing you to identify the best possible combinations of questions, given specific parameters, in order to determine a certain outcome. As a decision tree keeps splitting between two outcomes, based on the entropy level, local optimums do occour. In this particular use case with New York City motorvehicle data, a decision tree is used to determine the right questions in the right order to ask, in order to identify a fatal accident. This could be applied in an situation in which someone reports an accident over the phone."
   ]
  },
  {
   "cell_type": "markdown",
   "metadata": {},
   "source": [
    "First step is to transformed the category input to integer values so it can be used by the scikit decision tree library. Of the different keys in the dictionary 'CONTRIBUTING FACTOR VEHICLE 1','VEHICLE TYPE CODE 1', and 'BOROUGH' need to be converted into integer values"
   ]
  },
  {
   "cell_type": "code",
   "execution_count": 32,
   "metadata": {
    "collapsed": true
   },
   "outputs": [],
   "source": [
    "attr_list = ['CONTRIBUTING FACTOR VEHICLE 1','VEHICLE TYPE CODE 1','BOROUGH','LATITUDE','LONGITUDE','TIME_DEC','MONTH' ]\n",
    "categoryList = ['CONTRIBUTING FACTOR VEHICLE 1','VEHICLE TYPE CODE 1','BOROUGH']"
   ]
  },
  {
   "cell_type": "code",
   "execution_count": 33,
   "metadata": {
    "collapsed": false
   },
   "outputs": [
    {
     "data": {
      "text/plain": [
       "['CONTRIBUTING FACTOR VEHICLE 1', 'BOROUGH', 'VEHICLE TYPE CODE 1']"
      ]
     },
     "execution_count": 33,
     "metadata": {},
     "output_type": "execute_result"
    }
   ],
   "source": [
    "# create dictionary with unique values for the non-integer values\n",
    "dt_dic = {}\n",
    "for value in categoryList:\n",
    "    uniqueCategoryList = list(set(raw_DF[value]))\n",
    "    dt_dic[value] = uniqueCategoryList\n",
    "\n",
    "dt_dic.keys()"
   ]
  },
  {
   "cell_type": "code",
   "execution_count": 34,
   "metadata": {
    "collapsed": false
   },
   "outputs": [],
   "source": [
    "# creating list for 'CONTRIBUTING FACTOR VEHICLE 1' in integer format\n",
    "cfv_list = []\n",
    "for value in raw_DF['CONTRIBUTING FACTOR VEHICLE 1']:\n",
    "    for unique in range(0,len(dt_dic['CONTRIBUTING FACTOR VEHICLE 1'])):\n",
    "                    if value == dt_dic['CONTRIBUTING FACTOR VEHICLE 1'][unique]:\n",
    "                        cfv_list.append(unique)\n",
    "                    \n",
    "\n",
    "# creating list for 'BOROUGH' in integer format\n",
    "brg_list = []\n",
    "for value in raw_DF['BOROUGH']:\n",
    "    for unique in range(0,len(dt_dic['BOROUGH'])):\n",
    "                    if value == dt_dic['BOROUGH'][unique]:\n",
    "                        brg_list.append(unique)\n",
    "\n",
    "                    \n",
    "# creating list for 'VEHICLE TYPE CODE 1' in integer format\n",
    "vhc_list = []\n",
    "for value in raw_DF['VEHICLE TYPE CODE 1']:\n",
    "    for unique in range(0,len(dt_dic['VEHICLE TYPE CODE 1'])):\n",
    "                    if value == dt_dic['VEHICLE TYPE CODE 1'][unique]:\n",
    "                        vhc_list.append(unique)\n",
    "\n",
    "# create lists for the attributes already stored in int format\n",
    "lat_list = raw_DF['LATITUDE']\n",
    "lon_list = raw_DF['LONGITUDE']\n",
    "tim_list = raw_DF['TIME_DEC']\n",
    "mon_list = raw_DF['MONTH']"
   ]
  },
  {
   "cell_type": "code",
   "execution_count": 35,
   "metadata": {
    "collapsed": true
   },
   "outputs": [],
   "source": [
    "# some values have missing attributes values, therefore the observation set is slightly smaller\n",
    "newRange = min(len(vhc_list), len(brg_list), len(cfv_list))"
   ]
  },
  {
   "cell_type": "code",
   "execution_count": 36,
   "metadata": {
    "collapsed": true
   },
   "outputs": [],
   "source": [
    "newRange = 598440"
   ]
  },
  {
   "cell_type": "code",
   "execution_count": 37,
   "metadata": {
    "collapsed": false
   },
   "outputs": [],
   "source": [
    "# create list for decision tree\n",
    "X = []\n",
    "for inputs in range(0,newRange):\n",
    "    X.append([vhc_list[inputs], brg_list[inputs], cfv_list[inputs], lat_list[inputs], lon_list[inputs], tim_list[inputs], mon_list[inputs]])"
   ]
  },
  {
   "cell_type": "code",
   "execution_count": 38,
   "metadata": {
    "collapsed": false
   },
   "outputs": [],
   "source": [
    "# boolean value (0 or 1) determining whether there were any fataly injured in the accident\n",
    "Y = [raw_DF['KNN_bool'][ii] for ii in range(0,newRange)]"
   ]
  },
  {
   "cell_type": "code",
   "execution_count": 39,
   "metadata": {
    "collapsed": false
   },
   "outputs": [],
   "source": [
    "#split into test and train data: 90% train and 10% test data\n",
    "K = 10\n",
    "trainXData = X[:int((newRange/K)*9)]\n",
    "trainYData = Y[:int((newRange/K)*9)]\n",
    "\n",
    "testXData = X[int((newRange)/K)*9:]\n",
    "testYData = Y[int((newRange)/K)*9:]"
   ]
  },
  {
   "cell_type": "code",
   "execution_count": 40,
   "metadata": {
    "collapsed": false
   },
   "outputs": [
    {
     "name": "stdout",
     "output_type": "stream",
     "text": [
      "The accuracy of the model in decimal points is: 69.177% %\n"
     ]
    },
    {
     "data": {
      "text/plain": [
       "True"
      ]
     },
     "execution_count": 40,
     "metadata": {},
     "output_type": "execute_result"
    }
   ],
   "source": [
    "# import library\n",
    "from sklearn import tree\n",
    "# the model is trained with the data\n",
    "clf = tree.DecisionTreeClassifier()\n",
    "clf = clf.fit(trainXData, trainYData)\n",
    "\n",
    "# create an array of predicted values based\n",
    "predictedResults = clf.predict(testXData)\n",
    "\n",
    "# calculate the accuracy based on the test data\n",
    "counter = 0\n",
    "for x in range(0, len(testYData)):\n",
    "    if predictedResults[x] == testYData[x]:\n",
    "        counter += 1\n",
    "print 'The accuracy of the model in decimal points is: {0:.3f}%'.format(float(counter) / float(len(testYData))*100),\"%\"\n",
    "\n",
    "# create decision tree pdf with the splits of depth of 3\n",
    "from IPython.display import Image \n",
    "from sklearn.externals.six import StringIO\n",
    "import pydot\n",
    "\n",
    "##### max_d = 3\n",
    "dot_data = StringIO()\n",
    "tree.export_graphviz(clf, \n",
    "                     out_file = dot_data, \n",
    "                     feature_names = attr_list,  \n",
    "                     filled=True, rounded=True,  \n",
    "                     special_characters=True,\n",
    "                     max_depth = 3)  \n",
    "graph = pydot.graph_from_dot_data(dot_data.getvalue())  \n",
    "graph[0].write_pdf('dt_NYC.pdf')\n",
    "#in notebook Image(graph[0].create_png())  "
   ]
  },
  {
   "cell_type": "markdown",
   "metadata": {},
   "source": [
    "To view the decision tree, please visit the following link: <br>\n",
    "https://github.com/titanbender/titanbender.github.io/blob/master/Images/dt_NYC.pdf"
   ]
  },
  {
   "cell_type": "markdown",
   "metadata": {},
   "source": [
    "The accuracy of the 3-leaf decision tree is better above 50%. That is better than an average guess, but the same time it's only correct 70% of the time, according to the training and test data after asking three seperate questions. "
   ]
  },
  {
   "cell_type": "markdown",
   "metadata": {},
   "source": [
    "Create the json file for the d3 visualization"
   ]
  },
  {
   "cell_type": "code",
   "execution_count": 41,
   "metadata": {
    "collapsed": true
   },
   "outputs": [],
   "source": [
    "# create json file for d3 visualization\n",
    "tree_json = {\n",
    "  \"name\": \"Vehicle Type < 2 (18.47% fatal)\",\n",
    "  \"children\": [\n",
    "    {\n",
    "      \"name\": \"TRUE: Time of day < 8:00 (19.60% fatal)\",\n",
    "      \"children\": [\n",
    "        {\n",
    "          \"name\": \"TRUE: Time of day < 8:00 (19.60% fatal)\",\n",
    "          \"children\": [\n",
    "            {\n",
    "            \"name\": \"TRUE: Latitude < 40.7198 (23.90% fatal)\" \n",
    "            },\n",
    "            {\n",
    "             \"name\": \"FALSE: Month < 4 (18.17% fatal)\"\n",
    "            }\n",
    "          ]\n",
    "        },\n",
    "        {\n",
    "          \"name\": \"FALSE: Longtitude < -73.9693 (16.37% fatal)\",\n",
    "          \"children\": [\n",
    "            {\n",
    "              \"name\": \"TRUE: Latitude < 40.7453 (13.69% fatal)\"\n",
    "            },\n",
    "            {\n",
    "              \"name\": \"FALSE: Month < June (18.52% fatal)\"\n",
    "            }\n",
    "          ]\n",
    "        }\n",
    "      ]\n",
    "    },\n",
    "    {\n",
    "      \"name\": \" FALSE: Longtitude < -73.9527 (16.27% fatal)\",\n",
    "      \"children\": [\n",
    "        {\n",
    "          \"name\": \" TRUE: Latitude < 40.7453 (13.69% fatal)\",\n",
    "          \"children\": [\n",
    "            {\n",
    "              \"name\": \" TRUE: Longtitude < -73.9895 (15.68% fatal)\"\n",
    "            },\n",
    "            {\n",
    "              \"name\": \" FALSE: Latitude < 40.7912 (11.72% fatal)\"\n",
    "            }\n",
    "          ]\n",
    "        },\n",
    "        {\n",
    "          \"name\": \" FALSE: Time of day < 18:00 (18.52% fatal)\",\n",
    "          \"children\": [\n",
    "            {\n",
    "              \"name\": \" TRUE: Time of day < 8:00 (17.44% fatal)\"\n",
    "            },\n",
    "            {\n",
    "              \"name\": \" FALSE: Latitude < 40.7069 (21.99% fatal)\"\n",
    "            }\n",
    "          ]\n",
    "        }\n",
    "      ]\n",
    "    }\n",
    "  ]\n",
    "}\n",
    "createJSON(tree_json,'data/tree.json')"
   ]
  },
  {
   "cell_type": "markdown",
   "metadata": {},
   "source": [
    "As seen from the JSON file above, Vehicle Type is the most important parameter. As Vehicle Type is a categorical variable, which has been transformed to a numerical value, the list of values for the category has been listed in the order below"
   ]
  },
  {
   "cell_type": "code",
   "execution_count": 42,
   "metadata": {
    "collapsed": false,
    "scrolled": true
   },
   "outputs": [
    {
     "data": {
      "text/plain": [
       "{nan,\n",
       " 'AMBULANCE',\n",
       " 'BICYCLE',\n",
       " 'BUS',\n",
       " 'FIRE TRUCK',\n",
       " 'LARGE COM VEH(6 OR MORE TIRES)',\n",
       " 'LIVERY VEHICLE',\n",
       " 'MOTORCYCLE',\n",
       " 'OTHER',\n",
       " 'PASSENGER VEHICLE',\n",
       " 'PEDICAB',\n",
       " 'PICK-UP TRUCK',\n",
       " 'SCOOTER',\n",
       " 'SMALL COM VEH(4 TIRES) ',\n",
       " 'SPORT UTILITY / STATION WAGON',\n",
       " 'TAXI',\n",
       " 'UNKNOWN',\n",
       " 'VAN'}"
      ]
     },
     "execution_count": 42,
     "metadata": {},
     "output_type": "execute_result"
    }
   ],
   "source": [
    "set(raw_DF['VEHICLE TYPE CODE 1'])"
   ]
  },
  {
   "cell_type": "markdown",
   "metadata": {},
   "source": [
    "## Heat map visualization for the website"
   ]
  },
  {
   "cell_type": "code",
   "execution_count": 44,
   "metadata": {
    "collapsed": false
   },
   "outputs": [
    {
     "name": "stdout",
     "output_type": "stream",
     "text": [
      "('smallest non-zero count', 4.4777898101688105e-09)\n",
      "('max count:', 55.088293082658367)\n"
     ]
    }
   ],
   "source": [
    "geo_data = {}\n",
    "geo_data['lat'] = list(raw_DF[\"LATITUDE\"])\n",
    "geo_data['lon'] = list(raw_DF[\"LONGITUDE\"])\n",
    "\n",
    "geoplotlib.kde(geo_data, bw = 2, cut_below=1e-4)\n",
    "\n",
    "bbox = BoundingBox(north = np.mean(raw_DF[\"LATITUDE\"]) + 0.232,\n",
    "                   west = np.mean(raw_DF[\"LONGITUDE\"]) - 0.232,\n",
    "                   south = np.mean(raw_DF[\"LATITUDE\"]) - 0.232,\n",
    "                   east = np.mean(raw_DF[\"LONGITUDE\"]) + 0.232)\n",
    "\n",
    "geoplotlib.set_bbox(bbox)\n",
    "#geoplotlib.tiles_provider('watercolor')\n",
    "#geoplotlib.inline()\n",
    "geoplotlib.savefig('data/heatmap')"
   ]
  },
  {
   "cell_type": "markdown",
   "metadata": {},
   "source": [
    "Generating a heatmap png image for the final presention"
   ]
  },
  {
   "cell_type": "markdown",
   "metadata": {},
   "source": [
    "## 4. Visualizations\n",
    "### - A) Explain the visualizations you've chosen.\n",
    "\n",
    "A total of six visualizations have been chosen: A heatmap displaying the accident occurances throughout the years, a bar plot displaying accidents distributed over 24 hourly slots, a time series displaying occurances throughout the years, a scatter plot displaying the correlation between accidents and rain fall, a map displaying KNN predictions, and a decision tree showing the splits to detect fatal accidents.\n",
    "\n",
    "\n",
    "### - B) Why are they right for the story you want to tell?\n",
    "\n",
    "The overall goal of the project is to provide insights that empowers NYPD to better understand the accident data as well as potentially allow them to predict the severity of a reported accident. Below is a description of how each of the visualizations support this objective.\n",
    "\n",
    "- A heatmap was chosen as it gives a visual overview of how accidents are distributed across the years. This allows the end-user to see if there are certain geographic patterns that repeat itself. <br> <br>\n",
    "\n",
    "- A bar plot displaying accidents distributed over 24 hourly slots was chosen because it gives a great visual input to discovering patterns in accidents across the different hours of a day. <br> <br>\n",
    "\n",
    "- A time series displaying occurances throughout the years was chosen because it gives the end-user the ability to visually explore seasonal patterns in the number of occourances. We decided to plot both non-fatal and fatal accidents together. However, since non-fatal accidents occour in much higher frequency, it is not as easy to visually grasp the trends for the fatal accidents in the graph. <br> <br>\n",
    "\n",
    "- A scatter plot displaying the correlation between accidents and rain fall was chosen because it gives a clear visual understanding of how the two depend on each other. Based on this visualization (and the parameters of the linear regression), the end-user can determine whether rain fall has a significant impact or not. <br> <br>\n",
    "\n",
    "- A map dsiplaying KNN predictions was chosen as it gives an overview of where fatal accidents are predicted. Since we already were working on geographic data, the choice seemed obvious. <br> <br>\n",
    "\n",
    "- A decision tree showing the splits to detect fatal accidents was chosen as it provided insights into which attributes were most important in order to determine if an accident would have fatal consequences. Further, the decision tree could also be an applicable tool in terms of gathering the most important details once an accident is reported.\n"
   ]
  },
  {
   "cell_type": "markdown",
   "metadata": {},
   "source": [
    "## 5. Discussion Think critically about your creation\n",
    "\n",
    "### - What went well?\n",
    "\n",
    "Three things in the project went well. First, we identifyed a range of interesting questions regarding traffic accidents (see vimeo video in the beginning) that could be answered based upon two different data sets. Secondly, we managed to complete a wide range of data visualizations that covered both the data explorative part, but also the predictive elements. Third, we were able to identify interesting patterns within the data such as the correlations between accidents and weather data, which hours during the day include the most accidents and which parameters best determine if an accident is fatal.  \n",
    "\n",
    "### - What is still missing? What could be improved?, Why?\n",
    "\n",
    "As the dataset was very large and we decided to examine multiple hypothesis, it didn't allow us to dive as deep into the different visualizations and calculations as we would have liked. As the data analysis part took up a lot of time, more time could have been used to prepare the data story website part. The code could also be more polished in order to minimize length and time to compute. Another issue that took a lot of time and ultimately lead to the website to be seperated into sub pages were the conflicts generated with using visualization powered by d3.v3 and d3.v4 respectively. "
   ]
  },
  {
   "cell_type": "code",
   "execution_count": null,
   "metadata": {
    "collapsed": true
   },
   "outputs": [],
   "source": []
  }
 ],
 "metadata": {
  "anaconda-cloud": {},
  "kernelspec": {
   "display_name": "Python 2",
   "language": "python",
   "name": "python2"
  },
  "language_info": {
   "codemirror_mode": {
    "name": "ipython",
    "version": 2
   },
   "file_extension": ".py",
   "mimetype": "text/x-python",
   "name": "python",
   "nbconvert_exporter": "python",
   "pygments_lexer": "ipython2",
   "version": "2.7.13"
  }
 },
 "nbformat": 4,
 "nbformat_minor": 1
}
